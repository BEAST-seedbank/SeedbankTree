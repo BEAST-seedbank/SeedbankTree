{
 "cells": [
  {
   "cell_type": "code",
   "execution_count": 1,
   "metadata": {},
   "outputs": [],
   "source": [
    "import pandas as pd"
   ]
  },
  {
   "cell_type": "code",
   "execution_count": 2,
   "metadata": {},
   "outputs": [
    {
     "name": "stdout",
     "output_type": "stream",
     "text": [
      "2sampleNSR\n",
      "0.1337 0.8663\n",
      "0.4372 0.5628\n",
      "0.5769 0.4231\n",
      "0.8128 0.1872\n",
      "0.8583 0.1417\n",
      "0.0843 0.9157\n",
      "0.2185 0.7815\n",
      "0.2926 0.7074\n",
      "0.4221 0.5779\n",
      "0.4487 0.5513\n",
      "0.0326 0.9674\n",
      "0.0594 0.9406\n",
      "0.0691 0.9309\n",
      "0.0822 0.9178\n",
      "0.0853 0.9147\n",
      "\n",
      "2sampleTSRB\n",
      "0.1489 0.8511\n",
      "0.4232 0.5768\n",
      "0.5893 0.4107\n",
      "0.8091 0.1909\n",
      "0.8558 0.1442\n",
      "0.0800 0.9200\n",
      "0.2218 0.7782\n",
      "0.2929 0.7071\n",
      "0.4170 0.5830\n",
      "0.4468 0.5532\n",
      "0.0325 0.9675\n",
      "0.0593 0.9407\n",
      "0.0681 0.9319\n",
      "0.0833 0.9167\n",
      "0.0863 0.9137\n",
      "\n",
      "10sampleAll\n",
      "0.3554 0.6446\n",
      "0.7853 0.2147\n",
      "0.8749 0.1251\n",
      "0.9076 0.0924\n",
      "0.9084 0.0916\n",
      "0.1910 0.8090\n",
      "0.3857 0.6143\n",
      "0.4401 0.5599\n",
      "0.4890 0.5110\n",
      "0.4948 0.5052\n",
      "0.0598 0.9402\n",
      "0.0808 0.9192\n",
      "0.0854 0.9146\n",
      "0.0895 0.9105\n",
      "0.0904 0.9096\n",
      "\n",
      "100sampleAll\n",
      "0.5319 0.4681\n",
      "0.8983 0.1017\n",
      "0.9038 0.0962\n",
      "0.9083 0.0917\n",
      "0.9088 0.0912\n",
      "0.2728 0.7272\n",
      "0.4433 0.5567\n",
      "0.4727 0.5273\n",
      "0.4950 0.5050\n",
      "0.4976 0.5024\n",
      "0.0719 0.9281\n",
      "0.0864 0.9136\n",
      "0.0885 0.9115\n",
      "0.0900 0.9100\n",
      "0.0908 0.9092\n",
      "\n"
     ]
    }
   ],
   "source": [
    "log_locations = [\"2sampleNSR\", \"2sampleTSRB\", \"10sampleAll\", \"100sampleAll\"]\n",
    "\n",
    "for log_loc in log_locations:\n",
    "    print(log_loc)\n",
    "    for i in range(1, 16):\n",
    "        df = pd.read_csv(f'./{log_loc}/params_{i}.log', sep='\\t')\n",
    "        total_length = df.loc[:, \"sbTree.dormantLength\"] + df.loc[:, \"sbTree.activeLength\"]\n",
    "        dormant_percentage = df.loc[:, \"sbTree.dormantLength\"] / total_length\n",
    "        active_percentage = df.loc[:, \"sbTree.activeLength\"] / total_length\n",
    "        print(\"{:0.4f}\".format(dormant_percentage.mean()), \"{:0.4f}\".format(active_percentage.mean()))\n",
    "    print()\n"
   ]
  }
 ],
 "metadata": {
  "kernelspec": {
   "display_name": "treetime",
   "language": "python",
   "name": "python3"
  },
  "language_info": {
   "codemirror_mode": {
    "name": "ipython",
    "version": 3
   },
   "file_extension": ".py",
   "mimetype": "text/x-python",
   "name": "python",
   "nbconvert_exporter": "python",
   "pygments_lexer": "ipython3",
   "version": "3.12.2"
  }
 },
 "nbformat": 4,
 "nbformat_minor": 2
}
