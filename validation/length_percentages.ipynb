{
 "cells": [
  {
   "cell_type": "code",
   "execution_count": 11,
   "metadata": {},
   "outputs": [],
   "source": [
    "with open('length_percentages.txt', 'r') as read:\n",
    "    with open('length_percentages_new.txt', 'w') as out:\n",
    "        for line in read:\n",
    "            line = line.strip()\n",
    "            d, a = line.split(' ')\n",
    "            d, a = float(d), float(a)\n",
    "            total = d + a\n",
    "\n",
    "            d_percentage, a_percentage = \"{:0.4f}\".format(d / total), \"{:0.4f}\".format(a / total)\n",
    "\n",
    "            out.write(line + f\" {d_percentage} {a_percentage}\\n\")\n",
    "            "
   ]
  },
  {
   "cell_type": "code",
   "execution_count": 2,
   "metadata": {},
   "outputs": [],
   "source": [
    "import pandas as pd"
   ]
  },
  {
   "cell_type": "code",
   "execution_count": 12,
   "metadata": {},
   "outputs": [
    {
     "name": "stdout",
     "output_type": "stream",
     "text": [
      "2sampleNSR2\n",
      "0.4372 0.5628\n",
      "0.5769 0.4231\n",
      "0.8128 0.1872\n",
      "0.8583 0.1417\n",
      "0.0843 0.9157\n",
      "0.2185 0.7815\n",
      "0.2926 0.7074\n",
      "0.4221 0.5779\n",
      "0.4487 0.5513\n",
      "0.0326 0.9674\n",
      "0.0594 0.9406\n",
      "0.0691 0.9309\n",
      "0.0822 0.9178\n",
      "0.0853 0.9147\n",
      "\n",
      "2sampleTSRB2\n",
      "0.4232 0.5768\n",
      "0.5893 0.4107\n",
      "0.8091 0.1909\n",
      "0.8558 0.1442\n",
      "0.0800 0.9200\n",
      "0.2218 0.7782\n",
      "0.2929 0.7071\n",
      "0.4170 0.5830\n",
      "0.4468 0.5532\n",
      "0.0325 0.9675\n",
      "0.0593 0.9407\n",
      "0.0681 0.9319\n",
      "0.0833 0.9167\n",
      "0.0863 0.9137\n",
      "\n",
      "10sampleAll2\n",
      "0.7853 0.2147\n",
      "0.8749 0.1251\n",
      "0.9076 0.0924\n",
      "0.9084 0.0916\n",
      "0.1910 0.8090\n",
      "0.3857 0.6143\n",
      "0.4401 0.5599\n",
      "0.4890 0.5110\n",
      "0.4948 0.5052\n",
      "0.0598 0.9402\n",
      "0.0808 0.9192\n",
      "0.0854 0.9146\n",
      "0.0895 0.9105\n",
      "0.0904 0.9096\n",
      "\n",
      "100sampleAll2\n",
      "0.8983 0.1017\n",
      "0.9038 0.0962\n",
      "0.9083 0.0917\n",
      "0.9088 0.0912\n",
      "0.2728 0.7272\n",
      "0.4433 0.5567\n",
      "0.4727 0.5273\n",
      "0.4950 0.5050\n",
      "0.4976 0.5024\n",
      "0.0719 0.9281\n",
      "0.0864 0.9136\n",
      "0.0885 0.9115\n",
      "0.0900 0.9100\n",
      "0.0908 0.9092\n",
      "\n"
     ]
    }
   ],
   "source": [
    "log_locations = [\"2sampleNSR2\", \"2sampleTSRB2\", \"10sampleAll2\", \"100sampleAll2\"]\n",
    "log_names = [\"2sample.log\", \"2sample.log\", \"10sample.log\", \"100sample.log\"]\n",
    "\n",
    "for log_loc, log_name in zip(log_locations, log_names):\n",
    "    print(log_loc)\n",
    "    for i in range(2, 16):\n",
    "        df = pd.read_csv(f'./{log_loc}/{i}/{log_name}', sep='\\t')\n",
    "        total_length = df.loc[:, \"sbTree.dormantLength\"] + df.loc[:, \"sbTree.activeLength\"]\n",
    "        dormant_percentage = df.loc[:, \"sbTree.dormantLength\"] / total_length\n",
    "        active_percentage = df.loc[:, \"sbTree.activeLength\"] / total_length\n",
    "        print(\"{:0.4f}\".format(dormant_percentage.mean()), \"{:0.4f}\".format(active_percentage.mean()))\n",
    "    print()\n"
   ]
  },
  {
   "cell_type": "code",
   "execution_count": 20,
   "metadata": {},
   "outputs": [
    {
     "name": "stdout",
     "output_type": "stream",
     "text": [
      "2sampleNSR.log\n",
      "0        0.948004\n",
      "1        0.900725\n",
      "2        0.898212\n",
      "3        0.892491\n",
      "4        0.913501\n",
      "           ...   \n",
      "29996    0.000000\n",
      "29997    0.000000\n",
      "29998    0.000000\n",
      "29999    0.000000\n",
      "30000    0.000000\n",
      "Length: 30001, dtype: float64\n",
      "0         495.191878\n",
      "1        2112.896931\n",
      "2        2165.638448\n",
      "3        1473.679383\n",
      "4         298.957280\n",
      "            ...     \n",
      "29996       0.000000\n",
      "29997       0.000000\n",
      "29998       0.000000\n",
      "29999       0.000000\n",
      "30000       0.000000\n",
      "Name: sbTree.dormantLength, Length: 30001, dtype: float64\n",
      "0.1337 0.8663\n",
      "\n"
     ]
    }
   ],
   "source": [
    "log_names = [\"2sampleNSR.log\", \"2sampleTSRB.log\", \"10sample.log\", \"100sample6.log\"]\n",
    "log_names=[\"2sampleNSR.log\"]\n",
    "\n",
    "for log_name in log_names:\n",
    "    print(log_name)\n",
    "    df = pd.read_csv(f'./longchain/{log_name}', sep='\\t')\n",
    "    total_length = df.loc[:, \"sbTree.dormantLength\"] + df.loc[:, \"sbTree.activeLength\"]\n",
    "    dormant_length = df.loc[:, \"sbTree.dormantLength\"]\n",
    "    active_length = df.loc[:, \"sbTree.activeLength\"]\n",
    "    # for i in range(100):\n",
    "    #     print(dormant_length[i], active_length[i], total_length[i])\n",
    "    dormant_percentage = df.loc[:, \"sbTree.dormantLength\"] / total_length\n",
    "    active_percentage = df.loc[:, \"sbTree.activeLength\"] / total_length\n",
    "    print(dormant_percentage)\n",
    "    print(dormant_length)\n",
    "    print(\"{:0.4f}\".format(dormant_percentage.mean()), \"{:0.4f}\".format(active_percentage.mean()))\n",
    "    print()\n",
    "\n"
   ]
  },
  {
   "cell_type": "code",
   "execution_count": 18,
   "metadata": {},
   "outputs": [
    {
     "name": "stdout",
     "output_type": "stream",
     "text": [
      "0.8583 0.1417\n"
     ]
    }
   ],
   "source": [
    "df = pd.read_csv(f'./2sampleNSR2/5/2sample.log', sep='\\t')\n",
    "total_length = df.loc[:, \"sbTree.dormantLength\"] + df.loc[:, \"sbTree.activeLength\"]\n",
    "dormant_percentage = df.loc[:, \"sbTree.dormantLength\"] / total_length\n",
    "active_percentage = df.loc[:, \"sbTree.activeLength\"] / total_length\n",
    "print(\"{:0.4f}\".format(dormant_percentage.mean()), \"{:0.4f}\".format(active_percentage.mean()))"
   ]
  },
  {
   "cell_type": "code",
   "execution_count": 15,
   "metadata": {},
   "outputs": [
    {
     "data": {
      "text/plain": [
       "0.8876035805017226"
      ]
     },
     "execution_count": 15,
     "metadata": {},
     "output_type": "execute_result"
    }
   ],
   "source": []
  },
  {
   "cell_type": "code",
   "execution_count": null,
   "metadata": {},
   "outputs": [],
   "source": []
  }
 ],
 "metadata": {
  "kernelspec": {
   "display_name": "treetime",
   "language": "python",
   "name": "python3"
  },
  "language_info": {
   "codemirror_mode": {
    "name": "ipython",
    "version": 3
   },
   "file_extension": ".py",
   "mimetype": "text/x-python",
   "name": "python",
   "nbconvert_exporter": "python",
   "pygments_lexer": "ipython3",
   "version": "3.12.2"
  }
 },
 "nbformat": 4,
 "nbformat_minor": 2
}
