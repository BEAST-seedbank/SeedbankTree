{
 "cells": [
  {
   "cell_type": "code",
   "execution_count": 11,
   "metadata": {},
   "outputs": [],
   "source": [
    "from Bio import Phylo\n",
    "from io import StringIO"
   ]
  },
  {
   "cell_type": "code",
   "execution_count": 12,
   "metadata": {},
   "outputs": [],
   "source": [
    "treedata = '((2[&type=\"dormant\"]:1.8538)5[&type=\"active\"]:0.014478,(((1[&type=\"active\"]:0.069495,0[&type=\"active\"]:0.069495)3[&type=\"active\"]:1.04667)4[&type=\"dormant\"]:0.03647)6[&type=\"active\"]:0.715642)7[&type=\"active\"]:0;'\n",
    "handle = StringIO(treedata)\n",
    "tree = Phylo.read(handle, 'newick', rooted=True)"
   ]
  },
  {
   "cell_type": "code",
   "execution_count": 13,
   "metadata": {},
   "outputs": [
    {
     "data": {
      "text/plain": [
       "Clade(branch_length=0.014478, comment='&type=\"active\"', confidence=5)"
      ]
     },
     "execution_count": 13,
     "metadata": {},
     "output_type": "execute_result"
    }
   ],
   "source": [
    "tree.clade.clades[0]"
   ]
  },
  {
   "cell_type": "code",
   "execution_count": 14,
   "metadata": {},
   "outputs": [
    {
     "data": {
      "image/png": "[encoded data removed]",
      "text/plain": [
       "<Figure size 640x480 with 1 Axes>"
      ]
     },
     "metadata": {},
     "output_type": "display_data"
    }
   ],
   "source": [
    "Phylo.draw(tree)"
   ]
  },
  {
   "cell_type": "code",
   "execution_count": 15,
   "metadata": {},
   "outputs": [
    {
     "data": {
      "text/plain": [
       "Clade(branch_length=0.0, comment='&type=\"active\"', confidence=7)"
      ]
     },
     "execution_count": 15,
     "metadata": {},
     "output_type": "execute_result"
    }
   ],
   "source": [
    "tree.clade"
   ]
  },
  {
   "cell_type": "code",
   "execution_count": 16,
   "metadata": {},
   "outputs": [],
   "source": [
    "def conf_to_names (tree):\n",
    "  clades = [tree.clade]\n",
    "  while (clades):\n",
    "    nxt = []\n",
    "    for c in clades:\n",
    "      if c.confidence and not c.name:\n",
    "        c.name=str(c.confidence)\n",
    "        c.confidence=None\n",
    "        if c.clades:\n",
    "          nxt += c.clades\n",
    "    clades = nxt"
   ]
  },
  {
   "cell_type": "code",
   "execution_count": 17,
   "metadata": {},
   "outputs": [],
   "source": [
    "conf_to_names(tree)"
   ]
  },
  {
   "cell_type": "code",
   "execution_count": 18,
   "metadata": {},
   "outputs": [],
   "source": [
    "import numpy as np\n",
    "from treetime.seqgen import SeqGen\n",
    "from treetime import GTR\n",
    "from treetime.gtr import avg_transition"
   ]
  },
  {
   "cell_type": "code",
   "execution_count": 19,
   "metadata": {},
   "outputs": [],
   "source": [
    "pi = np.array([0.25, 0.25, 0.25, 0.25])\n",
    "gtr = GTR.standard(model='hky', mu=1.0, pi=pi, kappa=0.1)\n",
    "gtr_d = GTR.standard(model='hky', mu=0.1, pi=pi, kappa=0.1)"
   ]
  },
  {
   "cell_type": "code",
   "execution_count": 20,
   "metadata": {},
   "outputs": [
    {
     "name": "stdout",
     "output_type": "stream",
     "text": [
      "\n",
      "0.00\t-TreeAnc: set-up\n",
      "\n",
      "0.00\t-SequenceData: loaded alignment.\n"
     ]
    }
   ],
   "source": [
    "sq = SeqGen(5, tree=tree, gtr=gtr, gtr_d = gtr_d)\n",
    "sq.evolve_sb()\n",
    "# print(sq.aln)"
   ]
  },
  {
   "cell_type": "code",
   "execution_count": 21,
   "metadata": {},
   "outputs": [
    {
     "name": "stdout",
     "output_type": "stream",
     "text": [
      "Alignment with 8 rows and 5 columns\n",
      "GTAAC 7\n",
      "GTAAC 5\n",
      "GTTAC 2\n",
      "AGAAA 6\n",
      "AGAAA 4\n",
      "TGAGG 3\n",
      "TGAGG 1\n",
      "TCAGG 0\n"
     ]
    }
   ],
   "source": [
    "aln = sq.get_aln(True)\n",
    "print(aln)"
   ]
  },
  {
   "cell_type": "code",
   "execution_count": null,
   "metadata": {},
   "outputs": [],
   "source": []
  }
 ],
 "metadata": {
  "kernelspec": {
   "display_name": "treetime",
   "language": "python",
   "name": "python3"
  },
  "language_info": {
   "codemirror_mode": {
    "name": "ipython",
    "version": 3
   },
   "file_extension": ".py",
   "mimetype": "text/x-python",
   "name": "python",
   "nbconvert_exporter": "python",
   "pygments_lexer": "ipython3",
   "version": "3.12.2"
  }
 },
 "nbformat": 4,
 "nbformat_minor": 2
}
