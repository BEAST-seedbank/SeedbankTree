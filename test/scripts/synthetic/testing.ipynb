{
 "cells": [
  {
   "cell_type": "code",
   "execution_count": 2,
   "metadata": {},
   "outputs": [],
   "source": [
    "from Bio import Phylo\n",
    "from io import StringIO"
   ]
  },
  {
   "cell_type": "code",
   "execution_count": 3,
   "metadata": {},
   "outputs": [],
   "source": [
    "treedata = '((2[&type=\"dormant\"]:1.8538)5[&type=\"active\"]:0.014478,(((1[&type=\"active\"]:0.069495,0[&type=\"active\"]:0.069495)3[&type=\"active\"]:1.04667)4[&type=\"dormant\"]:0.03647)6[&type=\"active\"]:0.715642)7[&type=\"active\"]:0;'\n",
    "handle = StringIO(treedata)\n",
    "tree = Phylo.read(handle, 'newick', rooted=True)"
   ]
  },
  {
   "cell_type": "code",
   "execution_count": 4,
   "metadata": {},
   "outputs": [
    {
     "data": {
      "text/plain": [
       "Clade(branch_length=0.014478, comment='&type=\"active\"', confidence=5)"
      ]
     },
     "execution_count": 4,
     "metadata": {},
     "output_type": "execute_result"
    }
   ],
   "source": [
    "tree.clade.clades[0]"
   ]
  },
  {
   "cell_type": "code",
   "execution_count": 5,
   "metadata": {},
   "outputs": [
    {
     "data": {
      "image/png": "[encoded data removed]",
      "text/plain": [
       "<Figure size 640x480 with 1 Axes>"
      ]
     },
     "metadata": {},
     "output_type": "display_data"
    }
   ],
   "source": [
    "Phylo.draw(tree)"
   ]
  },
  {
   "cell_type": "code",
   "execution_count": 6,
   "metadata": {},
   "outputs": [
    {
     "data": {
      "text/plain": [
       "Clade(branch_length=0.0, comment='&type=\"active\"', confidence=7)"
      ]
     },
     "execution_count": 6,
     "metadata": {},
     "output_type": "execute_result"
    }
   ],
   "source": [
    "tree.clade"
   ]
  },
  {
   "cell_type": "code",
   "execution_count": 7,
   "metadata": {},
   "outputs": [],
   "source": [
    "def conf_to_names (tree):\n",
    "  clades = [tree.clade]\n",
    "  while (clades):\n",
    "    nxt = []\n",
    "    for c in clades:\n",
    "      if c.confidence and not c.name:\n",
    "        c.name=str(c.confidence)\n",
    "        c.confidence=None\n",
    "        if c.clades:\n",
    "          nxt += c.clades\n",
    "    clades = nxt"
   ]
  },
  {
   "cell_type": "code",
   "execution_count": 8,
   "metadata": {},
   "outputs": [],
   "source": [
    "conf_to_names(tree)"
   ]
  },
  {
   "cell_type": "code",
   "execution_count": 9,
   "metadata": {},
   "outputs": [],
   "source": [
    "import numpy as np\n",
    "from treetime.seqgen import SeqGen\n",
    "from treetime import GTR\n",
    "from treetime.gtr import avg_transition"
   ]
  },
  {
   "cell_type": "code",
   "execution_count": 10,
   "metadata": {},
   "outputs": [],
   "source": [
    "pi = np.array([0.25, 0.25, 0.25, 0.25])\n",
    "gtr = GTR.standard(model='hky', mu=1.0, pi=pi, kappa=0.1)\n",
    "gtr_d = GTR.standard(model='hky', mu=0.1, pi=pi, kappa=0.1)"
   ]
  },
  {
   "cell_type": "code",
   "execution_count": 11,
   "metadata": {},
   "outputs": [
    {
     "name": "stdout",
     "output_type": "stream",
     "text": [
      "\n",
      "0.00\t-TreeAnc: set-up\n",
      "\n",
      "0.00\t-SequenceData: loaded alignment.\n"
     ]
    }
   ],
   "source": [
    "sq = SeqGen(10, tree=tree, gtr=gtr, gtr_d = gtr_d)\n",
    "sq.evolve_sb()\n",
    "# print(sq.aln)"
   ]
  },
  {
   "cell_type": "code",
   "execution_count": 12,
   "metadata": {},
   "outputs": [
    {
     "name": "stdout",
     "output_type": "stream",
     "text": [
      "Alignment with 8 rows and 10 columns\n",
      "AGGGCTCGCC 7\n",
      "AGGGCTCGCC 5\n",
      "ACGGCACGCC 2\n",
      "AAGCCTCTGC 6\n",
      "AAGCCTCTGC 4\n",
      "AAACCGCGCA 3\n",
      "AAACCGCGCA 1\n",
      "AAACCGCGCA 0\n"
     ]
    }
   ],
   "source": [
    "aln = sq.get_aln(True)\n",
    "print(aln)"
   ]
  },
  {
   "cell_type": "code",
   "execution_count": 15,
   "metadata": {},
   "outputs": [
    {
     "name": "stdout",
     "output_type": "stream",
     "text": [
      "7 AGGGCTCGCC\n",
      "5 AGGGCTCGCC\n",
      "2 ACGGCACGCC\n",
      "6 AAGCCTCTGC\n",
      "4 AAGCCTCTGC\n",
      "3 AAACCGCGCA\n",
      "1 AAACCGCGCA\n",
      "0 AAACCGCGCA\n"
     ]
    }
   ],
   "source": [
    "for seqrecord in aln._records:\n",
    "  print(seqrecord.id, seqrecord.seq)"
   ]
  },
  {
   "cell_type": "code",
   "execution_count": 46,
   "metadata": {},
   "outputs": [],
   "source": [
    "def f(s, translate):\n",
    "  map_ = {}\n",
    "  pairs = translate.split('\\n')\n",
    "  for pair in pairs:\n",
    "    one, two = pair.split(\" \")\n",
    "    x = one[-2:] if one[-2].isnumeric() else one[-1]\n",
    "    y = two[:2] if two[1].isnumeric() else two[0]\n",
    "    map_[x] = y\n",
    "  \n",
    "  pieces = s.split('[')\n",
    "  new_pieces = []\n",
    "  for p in pieces[:-1]:\n",
    "    label = p[-2:] if p[-2].isnumeric() else p[-1]\n",
    "    if label in map_:\n",
    "      # p.replace(label + \"[\", map_[label])\n",
    "      new_p = p[:-2] + p[-2:].replace(label, map_[label])\n",
    "      new_pieces.append(new_p)\n",
    "  \n",
    "  new_pieces.append(pieces[-1])\n",
    "  return '['.join(new_pieces)"
   ]
  },
  {
   "cell_type": "code",
   "execution_count": 47,
   "metadata": {},
   "outputs": [],
   "source": [
    "s = '((((((((((((1[&type=\"active\"]:0.16599002714973043)100[&type=\"dormant\"]:10.173799388519845)101[&type=\"active\"]:2.276310821314956,((((((((((((2[&type=\"active\"]:0.025388792339026682,4[&type=\"active\"]:0.025388792339026682)62[&type=\"active\"]:0.5941671409446917)114[&type=\"dormant\"]:2.026645447933379)115[&type=\"active\"]:0.561259960227936,((3[&type=\"active\"]:0.11701507141517559)102[&type=\"dormant\"]:2.9169349242640443)103[&type=\"active\"]:0.17351134576581373)56[&type=\"active\"]:0.8790565299568316,(((((6[&type=\"active\"]:0.019923819062094134,7[&type=\"active\"]:0.019923819062094134)57[&type=\"active\"]:0.28652392787552944,((8[&type=\"active\"]:0.025637309118772395,9[&type=\"active\"]:0.025637309118772395)60[&type=\"active\"]:0.086084580249826,(10[&type=\"active\"]:0.06976430372467131,(11[&type=\"active\"]:0.004782900321498657,12[&type=\"active\"]:0.004782900321498657)87[&type=\"active\"]:0.06498140340317266)69[&type=\"active\"]:0.041957585643927084)85[&type=\"active\"]:0.19472585756902516)51[&type=\"active\"]:0.4936322827751992)112[&type=\"dormant\"]:2.8259484228467158)113[&type=\"active\"]:0.20920473239318493,((((13[&type=\"active\"]:0.17845966249530792,((14[&type=\"active\"]:0.13844638249332902,22[&type=\"active\"]:0.13844638249332902)54[&type=\"active\"]:0.028418100336609936,(((19[&type=\"active\"]:0.016867645492147833,20[&type=\"active\"]:0.016867645492147833)84[&type=\"active\"]:0.026695584693499457,(21[&type=\"active\"]:0.016000183026256953,23[&type=\"active\"]:0.016000183026256953)65[&type=\"active\"]:0.027563047159390338)94[&type=\"active\"]:0.011368388936150366,24[&type=\"active\"]:0.054931619121797656)77[&type=\"active\"]:0.1119328637081413)53[&type=\"active\"]:0.011595179665368965)59[&type=\"active\"]:0.03901681490887823,(((15[&type=\"active\"]:0.06616911157679026,17[&type=\"active\"]:0.06616911157679026)90[&type=\"active\"]:0.0063205038776563,16[&type=\"active\"]:0.07248961545444656)72[&type=\"active\"]:0.028680853601451978,18[&type=\"active\"]:0.10117046905589853)78[&type=\"active\"]:0.11630600834828762)71[&type=\"active\"]:0.15561143282893344)122[&type=\"dormant\"]:3.197969504905397)123[&type=\"active\"]:0.2641757698142069)96[&type=\"active\"]:0.2512846864491416)89[&type=\"active\"]:0.047925937724963674,((5[&type=\"active\"]:0.10233726145429405)104[&type=\"dormant\"]:4.022360994742425)105[&type=\"active\"]:0.009745552930109369)97[&type=\"active\"]:0.6701397014874422)150[&type=\"dormant\"]:0.4804091579439227)151[&type=\"active\"]:0.0974923611267764)152[&type=\"dormant\"]:1.595648660224314)153[&type=\"active\"]:3.5923891578057985)154[&type=\"dormant\"]:1.4575520251174812)155[&type=\"active\"]:0.5880253641519673)79[&type=\"active\"]:0.1957772105466855)126[&type=\"dormant\"]:8.871563043036929)127[&type=\"active\"]:3.635447886438989)128[&type=\"dormant\"]:0.30846453150962105)129[&type=\"active\"]:3.0367343046975783)130[&type=\"dormant\"]:3.8866153647452713)131[&type=\"active\"]:1.2592906155665347)132[&type=\"dormant\"]:0.3061367052083952)133[&type=\"active\"]:0.5712360035937394,((((((((((((((((25[&type=\"active\"]:0.03515026445478941,26[&type=\"active\"]:0.03515026445478941)70[&type=\"active\"]:0.04963750237330828)116[&type=\"dormant\"]:1.1774578281629402)117[&type=\"active\"]:0.03349695246506501)118[&type=\"dormant\"]:1.341718372042516)119[&type=\"active\"]:1.8694103819872807)120[&type=\"dormant\"]:6.844226382613911)121[&type=\"active\"]:0.08632002901285674,((((((((27[&type=\"active\"]:0.06474854808005516)106[&type=\"dormant\"]:4.892750267684851)107[&type=\"active\"]:0.06767810100939542,(((((28[&type=\"active\"]:0.006737097558295581,31[&type=\"active\"]:0.006737097558295581)98[&type=\"active\"]:0.012080280149077072,30[&type=\"active\"]:0.018817377707372653)67[&type=\"active\"]:0.09174984994532508,(29[&type=\"active\"]:0.0404037958427322,32[&type=\"active\"]:0.0404037958427322)68[&type=\"active\"]:0.07016343180996554)81[&type=\"active\"]:0.15514644293223945)138[&type=\"dormant\"]:4.639401643951554)139[&type=\"active\"]:0.12006160223781048)74[&type=\"active\"]:1.2054247954503117,((((((33[&type=\"active\"]:0.38818995681690344)108[&type=\"dormant\"]:1.3922537961091854)109[&type=\"active\"]:0.29064644267403916,(((34[&type=\"active\"]:0.013838041926378459)110[&type=\"dormant\"]:1.0635112293478837)111[&type=\"active\"]:0.6896336558106373,(((35[&type=\"active\"]:0.23705859761628653,36[&type=\"active\"]:0.23705859761628653)75[&type=\"active\"]:0.13967007733038797)124[&type=\"dormant\"]:1.3423127237414783)125[&type=\"active\"]:0.04794152839674659)66[&type=\"active\"]:0.3041072685152286)61[&type=\"active\"]:0.44416325592147254,((37[&type=\"active\"]:0.4682812282337845,((38[&type=\"active\"]:0.004213476056019107,41[&type=\"active\"]:0.004213476056019107)58[&type=\"active\"]:0.12385208850102333,(39[&type=\"active\"]:0.012758382175203637,40[&type=\"active\"]:0.012758382175203637)55[&type=\"active\"]:0.11530718238183879)64[&type=\"active\"]:0.34021566367674205)82[&type=\"active\"]:0.32204067680682125,((42[&type=\"active\"]:0.08808177969029174,43[&type=\"active\"]:0.08808177969029174)73[&type=\"active\"]:0.3087242116317447,((44[&type=\"active\"]:0.10001957351917902,45[&type=\"active\"]:0.10001957351917902)92[&type=\"active\"]:0.18575970078074483,(((46[&type=\"active\"]:0.06568632853276421,49[&type=\"active\"]:0.06568632853276421)93[&type=\"active\"]:0.023253405653210255,(48[&type=\"active\"]:0.04510710122285069,50[&type=\"active\"]:0.04510710122285069)83[&type=\"active\"]:0.04383263296312377)63[&type=\"active\"]:0.0878419709257124,47[&type=\"active\"]:0.17678170511168687)86[&type=\"active\"]:0.10899756918823697)88[&type=\"active\"]:0.11102671702211259)52[&type=\"active\"]:0.3935159137185693)76[&type=\"active\"]:1.724931546480995)95[&type=\"active\"]:0.10808663503394866)148[&type=\"dormant\"]:2.7723915174692415)149[&type=\"active\"]:0.834870108199822)80[&type=\"active\"]:0.1172646990244468)134[&type=\"dormant\"]:1.176189173958412)135[&type=\"active\"]:0.20687375568790234)136[&type=\"dormant\"]:3.1242488653252476)137[&type=\"active\"]:0.5822395068920461)91[&type=\"active\"]:0.6391695940324968)140[&type=\"dormant\"]:3.4068516746001816)141[&type=\"active\"]:0.019223222610529334)142[&type=\"dormant\"]:6.774707114876513)143[&type=\"active\"]:1.5233311554216087)144[&type=\"dormant\"]:3.739953699619832)145[&type=\"active\"]:2.10729899534892)146[&type=\"dormant\"]:0.3732422728688789)147[&type=\"active\"]:4.666170459836646)99[&type=\"active\"]:0.0;'\n",
    "translate = '''\t\t\t1 12,\n",
    "\t\t\t2 44,\n",
    "\t\t\t3 30,\n",
    "\t\t\t4 1,\n",
    "\t\t\t5 2,\n",
    "\t\t\t6 42,\n",
    "\t\t\t7 6,\n",
    "\t\t\t8 46,\n",
    "\t\t\t9 43,\n",
    "\t\t\t10 36,\n",
    "\t\t\t11 23,\n",
    "\t\t\t12 29,\n",
    "\t\t\t13 26,\n",
    "\t\t\t14 14,\n",
    "\t\t\t15 18,\n",
    "\t\t\t16 7,\n",
    "\t\t\t17 39,\n",
    "\t\t\t18 17,\n",
    "\t\t\t19 10,\n",
    "\t\t\t20 25,\n",
    "\t\t\t21 31,\n",
    "\t\t\t22 33,\n",
    "\t\t\t23 22,\n",
    "\t\t\t24 47,\n",
    "\t\t\t25 41,\n",
    "\t\t\t26 37,\n",
    "\t\t\t27 5,\n",
    "\t\t\t28 3,\n",
    "\t\t\t29 35,\n",
    "\t\t\t30 8,\n",
    "\t\t\t31 49,\n",
    "\t\t\t32 34,\n",
    "\t\t\t33 16,\n",
    "\t\t\t34 9,\n",
    "\t\t\t35 11,\n",
    "\t\t\t36 45,\n",
    "\t\t\t37 24,\n",
    "\t\t\t38 20,\n",
    "\t\t\t39 21,\n",
    "\t\t\t40 38,\n",
    "\t\t\t41 28,\n",
    "\t\t\t42 48,\n",
    "\t\t\t43 13,\n",
    "\t\t\t44 32,\n",
    "\t\t\t45 0,\n",
    "\t\t\t46 27,\n",
    "\t\t\t47 40,\n",
    "\t\t\t48 15,\n",
    "\t\t\t49 4,\n",
    "\t\t\t50 19'''"
   ]
  },
  {
   "cell_type": "code",
   "execution_count": 54,
   "metadata": {},
   "outputs": [
    {
     "data": {
      "text/plain": [
       "0"
      ]
     },
     "execution_count": 54,
     "metadata": {},
     "output_type": "execute_result"
    }
   ],
   "source": [
    "t = f(s, translate)\n",
    "t.count(\")\")"
   ]
  },
  {
   "cell_type": "code",
   "execution_count": 53,
   "metadata": {},
   "outputs": [
    {
     "data": {
      "text/plain": [
       "['((((((((((((1',\n",
       " '&type=\"active\"]:0.16599002714973043)100',\n",
       " '&type=\"dormant\"]:10.173799388519845)101',\n",
       " '&type=\"active\"]:2.276310821314956,((((((((((((2',\n",
       " '&type=\"active\"]:0.025388792339026682,4',\n",
       " '&type=\"active\"]:0.025388792339026682)62',\n",
       " '&type=\"active\"]:0.5941671409446917)114',\n",
       " '&type=\"dormant\"]:2.026645447933379)115',\n",
       " '&type=\"active\"]:0.561259960227936,((3',\n",
       " '&type=\"active\"]:0.11701507141517559)102',\n",
       " '&type=\"dormant\"]:2.9169349242640443)103',\n",
       " '&type=\"active\"]:0.17351134576581373)56',\n",
       " '&type=\"active\"]:0.8790565299568316,(((((6',\n",
       " '&type=\"active\"]:0.019923819062094134,7',\n",
       " '&type=\"active\"]:0.019923819062094134)57',\n",
       " '&type=\"active\"]:0.28652392787552944,((8',\n",
       " '&type=\"active\"]:0.025637309118772395,9',\n",
       " '&type=\"active\"]:0.025637309118772395)60',\n",
       " '&type=\"active\"]:0.086084580249826,(10',\n",
       " '&type=\"active\"]:0.06976430372467131,(11',\n",
       " '&type=\"active\"]:0.004782900321498657,12',\n",
       " '&type=\"active\"]:0.004782900321498657)87',\n",
       " '&type=\"active\"]:0.06498140340317266)69',\n",
       " '&type=\"active\"]:0.041957585643927084)85',\n",
       " '&type=\"active\"]:0.19472585756902516)51',\n",
       " '&type=\"active\"]:0.4936322827751992)112',\n",
       " '&type=\"dormant\"]:2.8259484228467158)113',\n",
       " '&type=\"active\"]:0.20920473239318493,((((13',\n",
       " '&type=\"active\"]:0.17845966249530792,((14',\n",
       " '&type=\"active\"]:0.13844638249332902,22',\n",
       " '&type=\"active\"]:0.13844638249332902)54',\n",
       " '&type=\"active\"]:0.028418100336609936,(((19',\n",
       " '&type=\"active\"]:0.016867645492147833,20',\n",
       " '&type=\"active\"]:0.016867645492147833)84',\n",
       " '&type=\"active\"]:0.026695584693499457,(21',\n",
       " '&type=\"active\"]:0.016000183026256953,23',\n",
       " '&type=\"active\"]:0.016000183026256953)65',\n",
       " '&type=\"active\"]:0.027563047159390338)94',\n",
       " '&type=\"active\"]:0.011368388936150366,24',\n",
       " '&type=\"active\"]:0.054931619121797656)77',\n",
       " '&type=\"active\"]:0.1119328637081413)53',\n",
       " '&type=\"active\"]:0.011595179665368965)59',\n",
       " '&type=\"active\"]:0.03901681490887823,(((15',\n",
       " '&type=\"active\"]:0.06616911157679026,17',\n",
       " '&type=\"active\"]:0.06616911157679026)90',\n",
       " '&type=\"active\"]:0.0063205038776563,16',\n",
       " '&type=\"active\"]:0.07248961545444656)72',\n",
       " '&type=\"active\"]:0.028680853601451978,18',\n",
       " '&type=\"active\"]:0.10117046905589853)78',\n",
       " '&type=\"active\"]:0.11630600834828762)71',\n",
       " '&type=\"active\"]:0.15561143282893344)122',\n",
       " '&type=\"dormant\"]:3.197969504905397)123',\n",
       " '&type=\"active\"]:0.2641757698142069)96',\n",
       " '&type=\"active\"]:0.2512846864491416)89',\n",
       " '&type=\"active\"]:0.047925937724963674,((5',\n",
       " '&type=\"active\"]:0.10233726145429405)104',\n",
       " '&type=\"dormant\"]:4.022360994742425)105',\n",
       " '&type=\"active\"]:0.009745552930109369)97',\n",
       " '&type=\"active\"]:0.6701397014874422)150',\n",
       " '&type=\"dormant\"]:0.4804091579439227)151',\n",
       " '&type=\"active\"]:0.0974923611267764)152',\n",
       " '&type=\"dormant\"]:1.595648660224314)153',\n",
       " '&type=\"active\"]:3.5923891578057985)154',\n",
       " '&type=\"dormant\"]:1.4575520251174812)155',\n",
       " '&type=\"active\"]:0.5880253641519673)79',\n",
       " '&type=\"active\"]:0.1957772105466855)126',\n",
       " '&type=\"dormant\"]:8.871563043036929)127',\n",
       " '&type=\"active\"]:3.635447886438989)128',\n",
       " '&type=\"dormant\"]:0.30846453150962105)129',\n",
       " '&type=\"active\"]:3.0367343046975783)130',\n",
       " '&type=\"dormant\"]:3.8866153647452713)131',\n",
       " '&type=\"active\"]:1.2592906155665347)132',\n",
       " '&type=\"dormant\"]:0.3061367052083952)133',\n",
       " '&type=\"active\"]:0.5712360035937394,((((((((((((((((25',\n",
       " '&type=\"active\"]:0.03515026445478941,26',\n",
       " '&type=\"active\"]:0.03515026445478941)70',\n",
       " '&type=\"active\"]:0.04963750237330828)116',\n",
       " '&type=\"dormant\"]:1.1774578281629402)117',\n",
       " '&type=\"active\"]:0.03349695246506501)118',\n",
       " '&type=\"dormant\"]:1.341718372042516)119',\n",
       " '&type=\"active\"]:1.8694103819872807)120',\n",
       " '&type=\"dormant\"]:6.844226382613911)121',\n",
       " '&type=\"active\"]:0.08632002901285674,((((((((27',\n",
       " '&type=\"active\"]:0.06474854808005516)106',\n",
       " '&type=\"dormant\"]:4.892750267684851)107',\n",
       " '&type=\"active\"]:0.06767810100939542,(((((28',\n",
       " '&type=\"active\"]:0.006737097558295581,31',\n",
       " '&type=\"active\"]:0.006737097558295581)98',\n",
       " '&type=\"active\"]:0.012080280149077072,30',\n",
       " '&type=\"active\"]:0.018817377707372653)67',\n",
       " '&type=\"active\"]:0.09174984994532508,(29',\n",
       " '&type=\"active\"]:0.0404037958427322,32',\n",
       " '&type=\"active\"]:0.0404037958427322)68',\n",
       " '&type=\"active\"]:0.07016343180996554)81',\n",
       " '&type=\"active\"]:0.15514644293223945)138',\n",
       " '&type=\"dormant\"]:4.639401643951554)139',\n",
       " '&type=\"active\"]:0.12006160223781048)74',\n",
       " '&type=\"active\"]:1.2054247954503117,((((((33',\n",
       " '&type=\"active\"]:0.38818995681690344)108',\n",
       " '&type=\"dormant\"]:1.3922537961091854)109',\n",
       " '&type=\"active\"]:0.29064644267403916,(((34',\n",
       " '&type=\"active\"]:0.013838041926378459)110',\n",
       " '&type=\"dormant\"]:1.0635112293478837)111',\n",
       " '&type=\"active\"]:0.6896336558106373,(((35',\n",
       " '&type=\"active\"]:0.23705859761628653,36',\n",
       " '&type=\"active\"]:0.23705859761628653)75',\n",
       " '&type=\"active\"]:0.13967007733038797)124',\n",
       " '&type=\"dormant\"]:1.3423127237414783)125',\n",
       " '&type=\"active\"]:0.04794152839674659)66',\n",
       " '&type=\"active\"]:0.3041072685152286)61',\n",
       " '&type=\"active\"]:0.44416325592147254,((37',\n",
       " '&type=\"active\"]:0.4682812282337845,((38',\n",
       " '&type=\"active\"]:0.004213476056019107,41',\n",
       " '&type=\"active\"]:0.004213476056019107)58',\n",
       " '&type=\"active\"]:0.12385208850102333,(39',\n",
       " '&type=\"active\"]:0.012758382175203637,40',\n",
       " '&type=\"active\"]:0.012758382175203637)55',\n",
       " '&type=\"active\"]:0.11530718238183879)64',\n",
       " '&type=\"active\"]:0.34021566367674205)82',\n",
       " '&type=\"active\"]:0.32204067680682125,((42',\n",
       " '&type=\"active\"]:0.08808177969029174,43',\n",
       " '&type=\"active\"]:0.08808177969029174)73',\n",
       " '&type=\"active\"]:0.3087242116317447,((44',\n",
       " '&type=\"active\"]:0.10001957351917902,45',\n",
       " '&type=\"active\"]:0.10001957351917902)92',\n",
       " '&type=\"active\"]:0.18575970078074483,(((46',\n",
       " '&type=\"active\"]:0.06568632853276421,49',\n",
       " '&type=\"active\"]:0.06568632853276421)93',\n",
       " '&type=\"active\"]:0.023253405653210255,(48',\n",
       " '&type=\"active\"]:0.04510710122285069,50',\n",
       " '&type=\"active\"]:0.04510710122285069)83',\n",
       " '&type=\"active\"]:0.04383263296312377)63',\n",
       " '&type=\"active\"]:0.0878419709257124,47',\n",
       " '&type=\"active\"]:0.17678170511168687)86',\n",
       " '&type=\"active\"]:0.10899756918823697)88',\n",
       " '&type=\"active\"]:0.11102671702211259)52',\n",
       " '&type=\"active\"]:0.3935159137185693)76',\n",
       " '&type=\"active\"]:1.724931546480995)95',\n",
       " '&type=\"active\"]:0.10808663503394866)148',\n",
       " '&type=\"dormant\"]:2.7723915174692415)149',\n",
       " '&type=\"active\"]:0.834870108199822)80',\n",
       " '&type=\"active\"]:0.1172646990244468)134',\n",
       " '&type=\"dormant\"]:1.176189173958412)135',\n",
       " '&type=\"active\"]:0.20687375568790234)136',\n",
       " '&type=\"dormant\"]:3.1242488653252476)137',\n",
       " '&type=\"active\"]:0.5822395068920461)91',\n",
       " '&type=\"active\"]:0.6391695940324968)140',\n",
       " '&type=\"dormant\"]:3.4068516746001816)141',\n",
       " '&type=\"active\"]:0.019223222610529334)142',\n",
       " '&type=\"dormant\"]:6.774707114876513)143',\n",
       " '&type=\"active\"]:1.5233311554216087)144',\n",
       " '&type=\"dormant\"]:3.739953699619832)145',\n",
       " '&type=\"active\"]:2.10729899534892)146',\n",
       " '&type=\"dormant\"]:0.3732422728688789)147',\n",
       " '&type=\"active\"]:4.666170459836646)99',\n",
       " '&type=\"active\"]:0.0;']"
      ]
     },
     "execution_count": 53,
     "metadata": {},
     "output_type": "execute_result"
    }
   ],
   "source": [
    "ss = s.split('[')\n",
    "ss"
   ]
  },
  {
   "cell_type": "code",
   "execution_count": null,
   "metadata": {},
   "outputs": [],
   "source": []
  }
 ],
 "metadata": {
  "kernelspec": {
   "display_name": "treetime",
   "language": "python",
   "name": "python3"
  },
  "language_info": {
   "codemirror_mode": {
    "name": "ipython",
    "version": 3
   },
   "file_extension": ".py",
   "mimetype": "text/x-python",
   "name": "python",
   "nbconvert_exporter": "python",
   "pygments_lexer": "ipython3",
   "version": "3.12.2"
  }
 },
 "nbformat": 4,
 "nbformat_minor": 2
}
